{
 "cells": [
  {
   "cell_type": "markdown",
   "metadata": {},
   "source": [
    "# Importing Libraries"
   ]
  },
  {
   "cell_type": "code",
   "execution_count": 4,
   "metadata": {},
   "outputs": [],
   "source": [
    "#Libraries\n",
    "import numpy as np\n",
    "import pandas as pd\n",
    "import datetime as dt\n",
    "import seaborn as sns\n",
    "import matplotlib.pyplot as plt\n",
    "from sklearn.cluster import KMeans\n",
    "import chart_studio as cs\n",
    "import plotly.offline as po\n",
    "import plotly.graph_objs as gobj"
   ]
  },
  {
   "cell_type": "markdown",
   "metadata": {},
   "source": [
    "# Loading Dataset"
   ]
  },
  {
   "cell_type": "code",
   "execution_count": 6,
   "metadata": {},
   "outputs": [],
   "source": [
    "#Dataset\n",
    "df = pd.read_excel(r\"E-com_Data.xlsx\",header=0,index_col=None)"
   ]
  },
  {
   "cell_type": "code",
   "execution_count": 7,
   "metadata": {},
   "outputs": [
    {
     "data": {
      "text/html": [
       "<div>\n",
       "<style scoped>\n",
       "    .dataframe tbody tr th:only-of-type {\n",
       "        vertical-align: middle;\n",
       "    }\n",
       "\n",
       "    .dataframe tbody tr th {\n",
       "        vertical-align: top;\n",
       "    }\n",
       "\n",
       "    .dataframe thead th {\n",
       "        text-align: right;\n",
       "    }\n",
       "</style>\n",
       "<table border=\"1\" class=\"dataframe\">\n",
       "  <thead>\n",
       "    <tr style=\"text-align: right;\">\n",
       "      <th></th>\n",
       "      <th>CustomerID</th>\n",
       "      <th>Item Code</th>\n",
       "      <th>InvoieNo</th>\n",
       "      <th>Date of purchase</th>\n",
       "      <th>Quantity</th>\n",
       "      <th>Time</th>\n",
       "      <th>price per Unit</th>\n",
       "      <th>Price</th>\n",
       "      <th>Shipping Location</th>\n",
       "      <th>Cancelled_status</th>\n",
       "      <th>Reason of return</th>\n",
       "      <th>Sold as set</th>\n",
       "    </tr>\n",
       "  </thead>\n",
       "  <tbody>\n",
       "    <tr>\n",
       "      <th>0</th>\n",
       "      <td>4355.0</td>\n",
       "      <td>15734</td>\n",
       "      <td>398177</td>\n",
       "      <td>2017-10-29</td>\n",
       "      <td>6</td>\n",
       "      <td>15:36:00</td>\n",
       "      <td>321.0</td>\n",
       "      <td>1926.0</td>\n",
       "      <td>Location 1</td>\n",
       "      <td>NaN</td>\n",
       "      <td>NaN</td>\n",
       "      <td>NaN</td>\n",
       "    </tr>\n",
       "    <tr>\n",
       "      <th>1</th>\n",
       "      <td>4352.0</td>\n",
       "      <td>14616</td>\n",
       "      <td>394422</td>\n",
       "      <td>2017-10-05</td>\n",
       "      <td>2</td>\n",
       "      <td>14:53:00</td>\n",
       "      <td>870.0</td>\n",
       "      <td>1740.0</td>\n",
       "      <td>Location 1</td>\n",
       "      <td>NaN</td>\n",
       "      <td>NaN</td>\n",
       "      <td>NaN</td>\n",
       "    </tr>\n",
       "    <tr>\n",
       "      <th>2</th>\n",
       "      <td>4352.0</td>\n",
       "      <td>14614</td>\n",
       "      <td>394422</td>\n",
       "      <td>2017-10-12</td>\n",
       "      <td>2</td>\n",
       "      <td>14:53:00</td>\n",
       "      <td>933.0</td>\n",
       "      <td>1866.0</td>\n",
       "      <td>Location 1</td>\n",
       "      <td>NaN</td>\n",
       "      <td>NaN</td>\n",
       "      <td>NaN</td>\n",
       "    </tr>\n",
       "    <tr>\n",
       "      <th>3</th>\n",
       "      <td>4352.0</td>\n",
       "      <td>85014B</td>\n",
       "      <td>388633</td>\n",
       "      <td>2017-08-22</td>\n",
       "      <td>3</td>\n",
       "      <td>14:47:00</td>\n",
       "      <td>623.0</td>\n",
       "      <td>1869.0</td>\n",
       "      <td>Location 1</td>\n",
       "      <td>NaN</td>\n",
       "      <td>NaN</td>\n",
       "      <td>NaN</td>\n",
       "    </tr>\n",
       "    <tr>\n",
       "      <th>4</th>\n",
       "      <td>4352.0</td>\n",
       "      <td>15364</td>\n",
       "      <td>394422</td>\n",
       "      <td>2017-10-10</td>\n",
       "      <td>2</td>\n",
       "      <td>14:53:00</td>\n",
       "      <td>944.0</td>\n",
       "      <td>1888.0</td>\n",
       "      <td>Location 1</td>\n",
       "      <td>NaN</td>\n",
       "      <td>NaN</td>\n",
       "      <td>NaN</td>\n",
       "    </tr>\n",
       "  </tbody>\n",
       "</table>\n",
       "</div>"
      ],
      "text/plain": [
       "   CustomerID Item Code  InvoieNo Date of purchase  Quantity      Time  \\\n",
       "0      4355.0     15734    398177       2017-10-29         6  15:36:00   \n",
       "1      4352.0     14616    394422       2017-10-05         2  14:53:00   \n",
       "2      4352.0     14614    394422       2017-10-12         2  14:53:00   \n",
       "3      4352.0    85014B    388633       2017-08-22         3  14:47:00   \n",
       "4      4352.0     15364    394422       2017-10-10         2  14:53:00   \n",
       "\n",
       "   price per Unit   Price Shipping Location  Cancelled_status  \\\n",
       "0           321.0  1926.0        Location 1               NaN   \n",
       "1           870.0  1740.0        Location 1               NaN   \n",
       "2           933.0  1866.0        Location 1               NaN   \n",
       "3           623.0  1869.0        Location 1               NaN   \n",
       "4           944.0  1888.0        Location 1               NaN   \n",
       "\n",
       "  Reason of return  Sold as set  \n",
       "0              NaN          NaN  \n",
       "1              NaN          NaN  \n",
       "2              NaN          NaN  \n",
       "3              NaN          NaN  \n",
       "4              NaN          NaN  "
      ]
     },
     "execution_count": 7,
     "metadata": {},
     "output_type": "execute_result"
    }
   ],
   "source": [
    "df_registered = df[df[\"CustomerID\"].notnull()]\n",
    "df_registered.head()"
   ]
  },
  {
   "cell_type": "markdown",
   "metadata": {},
   "source": [
    "# RFM Analysis"
   ]
  },
  {
   "cell_type": "code",
   "execution_count": 8,
   "metadata": {},
   "outputs": [
    {
     "name": "stderr",
     "output_type": "stream",
     "text": [
      "C:\\Users\\Hrithik shukla\\anaconda3\\lib\\site-packages\\pandas\\core\\frame.py:4163: SettingWithCopyWarning:\n",
      "\n",
      "\n",
      "A value is trying to be set on a copy of a slice from a DataFrame\n",
      "\n",
      "See the caveats in the documentation: https://pandas.pydata.org/pandas-docs/stable/user_guide/indexing.html#returning-a-view-versus-a-copy\n",
      "\n",
      "<ipython-input-8-5d897d4c0e76>:2: SettingWithCopyWarning:\n",
      "\n",
      "\n",
      "A value is trying to be set on a copy of a slice from a DataFrame.\n",
      "Try using .loc[row_indexer,col_indexer] = value instead\n",
      "\n",
      "See the caveats in the documentation: https://pandas.pydata.org/pandas-docs/stable/user_guide/indexing.html#returning-a-view-versus-a-copy\n",
      "\n"
     ]
    },
    {
     "data": {
      "text/html": [
       "<div>\n",
       "<style scoped>\n",
       "    .dataframe tbody tr th:only-of-type {\n",
       "        vertical-align: middle;\n",
       "    }\n",
       "\n",
       "    .dataframe tbody tr th {\n",
       "        vertical-align: top;\n",
       "    }\n",
       "\n",
       "    .dataframe thead th {\n",
       "        text-align: right;\n",
       "    }\n",
       "</style>\n",
       "<table border=\"1\" class=\"dataframe\">\n",
       "  <thead>\n",
       "    <tr style=\"text-align: right;\">\n",
       "      <th></th>\n",
       "      <th>Recency</th>\n",
       "      <th>Frequency</th>\n",
       "      <th>TotalPrice</th>\n",
       "    </tr>\n",
       "    <tr>\n",
       "      <th>CustomerID</th>\n",
       "      <th></th>\n",
       "      <th></th>\n",
       "      <th></th>\n",
       "    </tr>\n",
       "  </thead>\n",
       "  <tbody>\n",
       "    <tr>\n",
       "      <th>2.0</th>\n",
       "      <td>16</td>\n",
       "      <td>7</td>\n",
       "      <td>553704.0</td>\n",
       "    </tr>\n",
       "    <tr>\n",
       "      <th>3.0</th>\n",
       "      <td>89</td>\n",
       "      <td>4</td>\n",
       "      <td>257404.0</td>\n",
       "    </tr>\n",
       "    <tr>\n",
       "      <th>4.0</th>\n",
       "      <td>31</td>\n",
       "      <td>1</td>\n",
       "      <td>176613.0</td>\n",
       "    </tr>\n",
       "    <tr>\n",
       "      <th>5.0</th>\n",
       "      <td>323</td>\n",
       "      <td>1</td>\n",
       "      <td>41976.0</td>\n",
       "    </tr>\n",
       "    <tr>\n",
       "      <th>6.0</th>\n",
       "      <td>49</td>\n",
       "      <td>7</td>\n",
       "      <td>166972.0</td>\n",
       "    </tr>\n",
       "  </tbody>\n",
       "</table>\n",
       "</div>"
      ],
      "text/plain": [
       "            Recency  Frequency  TotalPrice\n",
       "CustomerID                                \n",
       "2.0              16          7    553704.0\n",
       "3.0              89          4    257404.0\n",
       "4.0              31          1    176613.0\n",
       "5.0             323          1     41976.0\n",
       "6.0              49          7    166972.0"
      ]
     },
     "execution_count": 8,
     "metadata": {},
     "output_type": "execute_result"
    }
   ],
   "source": [
    "df_registered.drop(df_registered[df_registered['Cancelled_status']==1.0].index,inplace=True)\n",
    "df_registered['Date'] = df_registered['Date of purchase'].apply(lambda x: x.date())\n",
    "#Recency Dataframe\n",
    "recency_df = df_registered.groupby(by='CustomerID',as_index=False)[\"Date\"].max()\n",
    "recency_df.columns = ['CustomerID','LastPurchaseDate']\n",
    "SystemDate = dt.date(2018,1,1)\n",
    "recency_df['Recency'] = recency_df['LastPurchaseDate'].apply(lambda x: (SystemDate - x).days)\n",
    "recency_df.drop('LastPurchaseDate',axis = 1,inplace=True)\n",
    "temp = df_registered.copy()\n",
    "temp[\"InvoieNo\"] = temp.InvoieNo.astype(object)\n",
    "temp.drop_duplicates(['InvoieNo','CustomerID'],keep='first',inplace=True)\n",
    "frequency_df = temp.groupby(by=['CustomerID'], as_index=False)['InvoieNo'].count()\n",
    "frequency_df.columns = ['CustomerID','Frequency']\n",
    "monetary_df = df_registered.groupby(by = 'CustomerID',as_index=False).agg({'Price':'sum'})\n",
    "monetary_df.columns = ['CustomerID','TotalPrice']\n",
    "rfm_df = recency_df.merge(frequency_df,on='CustomerID').merge(monetary_df,on='CustomerID')\n",
    "rfm_df.set_index('CustomerID',inplace=True)\n",
    "rfm_df.head(5)"
   ]
  },
  {
   "cell_type": "code",
   "execution_count": 9,
   "metadata": {},
   "outputs": [
    {
     "data": {
      "text/plain": [
       "count    4324.000000\n",
       "mean      105.755319\n",
       "std       100.115549\n",
       "min        13.000000\n",
       "25%        31.000000\n",
       "50%        64.000000\n",
       "75%       155.250000\n",
       "max       393.000000\n",
       "Name: Recency, dtype: float64"
      ]
     },
     "execution_count": 9,
     "metadata": {},
     "output_type": "execute_result"
    }
   ],
   "source": [
    "rfm_df.Recency.describe()"
   ]
  },
  {
   "cell_type": "code",
   "execution_count": 10,
   "metadata": {},
   "outputs": [
    {
     "name": "stderr",
     "output_type": "stream",
     "text": [
      "C:\\Users\\Hrithik shukla\\anaconda3\\lib\\site-packages\\seaborn\\distributions.py:2551: FutureWarning:\n",
      "\n",
      "`distplot` is a deprecated function and will be removed in a future version. Please adapt your code to use either `displot` (a figure-level function with similar flexibility) or `histplot` (an axes-level function for histograms).\n",
      "\n"
     ]
    },
    {
     "data": {
      "image/png": "[encoded data removed]",
      "text/plain": [
       "<Figure size 432x288 with 1 Axes>"
      ]
     },
     "metadata": {
      "needs_background": "light"
     },
     "output_type": "display_data"
    }
   ],
   "source": [
    "#Recency distrubution plot\n",
    "X = rfm_df['Recency']\n",
    "ax = sns.distplot(X)"
   ]
  },
  {
   "cell_type": "code",
   "execution_count": 11,
   "metadata": {},
   "outputs": [
    {
     "name": "stdout",
     "output_type": "stream",
     "text": [
      "count    4324.000000\n",
      "mean        4.233349\n",
      "std         7.583441\n",
      "min         1.000000\n",
      "25%         1.000000\n",
      "50%         2.000000\n",
      "75%         5.000000\n",
      "max       206.000000\n",
      "Name: Frequency, dtype: float64\n"
     ]
    },
    {
     "name": "stderr",
     "output_type": "stream",
     "text": [
      "C:\\Users\\Hrithik shukla\\anaconda3\\lib\\site-packages\\seaborn\\distributions.py:2551: FutureWarning:\n",
      "\n",
      "`distplot` is a deprecated function and will be removed in a future version. Please adapt your code to use either `displot` (a figure-level function with similar flexibility) or `histplot` (an axes-level function for histograms).\n",
      "\n"
     ]
    },
    {
     "data": {
      "image/png": "[encoded data removed]",
      "text/plain": [
       "<Figure size 432x288 with 1 Axes>"
      ]
     },
     "metadata": {
      "needs_background": "light"
     },
     "output_type": "display_data"
    }
   ],
   "source": [
    "print(rfm_df.Frequency.describe())\n",
    "Y = rfm_df['Frequency']\n",
    "ay = sns.distplot(Y)"
   ]
  },
  {
   "cell_type": "code",
   "execution_count": 12,
   "metadata": {},
   "outputs": [
    {
     "name": "stdout",
     "output_type": "stream",
     "text": [
      "count    4.324000e+03\n",
      "mean     2.339858e+05\n",
      "std      8.636671e+05\n",
      "min      3.880000e+02\n",
      "25%      3.928800e+04\n",
      "50%      8.614700e+04\n",
      "75%      2.108338e+05\n",
      "max      3.553619e+07\n",
      "Name: TotalPrice, dtype: float64\n"
     ]
    },
    {
     "name": "stderr",
     "output_type": "stream",
     "text": [
      "C:\\Users\\Hrithik shukla\\anaconda3\\lib\\site-packages\\seaborn\\distributions.py:2551: FutureWarning:\n",
      "\n",
      "`distplot` is a deprecated function and will be removed in a future version. Please adapt your code to use either `displot` (a figure-level function with similar flexibility) or `histplot` (an axes-level function for histograms).\n",
      "\n"
     ]
    },
    {
     "data": {
      "image/png": "[encoded data removed]",
      "text/plain": [
       "<Figure size 432x288 with 1 Axes>"
      ]
     },
     "metadata": {
      "needs_background": "light"
     },
     "output_type": "display_data"
    }
   ],
   "source": [
    "print(rfm_df.TotalPrice.describe())\n",
    "Z = rfm_df['TotalPrice']\n",
    "az = sns.distplot(Z)"
   ]
  },
  {
   "cell_type": "code",
   "execution_count": 13,
   "metadata": {},
   "outputs": [
    {
     "data": {
      "text/plain": [
       "35536194.0"
      ]
     },
     "execution_count": 13,
     "metadata": {},
     "output_type": "execute_result"
    }
   ],
   "source": [
    "rfm_df.TotalPrice.max()"
   ]
  },
  {
   "cell_type": "code",
   "execution_count": 14,
   "metadata": {},
   "outputs": [
    {
     "data": {
      "text/plain": [
       "{'Recency': {0.25: 31.0, 0.5: 64.0, 0.75: 155.25},\n",
       " 'Frequency': {0.25: 1.0, 0.5: 2.0, 0.75: 5.0},\n",
       " 'TotalPrice': {0.25: 39288.0, 0.5: 86147.0, 0.75: 210833.75}}"
      ]
     },
     "execution_count": 14,
     "metadata": {},
     "output_type": "execute_result"
    }
   ],
   "source": [
    "#Split the four segments using quantiles \n",
    "quantiles = rfm_df.quantile(q=[0.25,0.5,0.75])\n",
    "quantiles = quantiles.to_dict()\n",
    "quantiles"
   ]
  },
  {
   "cell_type": "code",
   "execution_count": 15,
   "metadata": {},
   "outputs": [],
   "source": [
    "#Functions to create R, F and M segments\n",
    "def RScoring(x,p,d):\n",
    "    if x <= d[p][0.25]:\n",
    "        return 1\n",
    "    elif x <= d[p][0.50]:\n",
    "        return 2\n",
    "    elif x <= d[p][0.75]: \n",
    "        return 3\n",
    "    else:\n",
    "        return 4\n",
    "    \n",
    "def FnMScoring(x,p,d):\n",
    "    if x <= d[p][0.25]:\n",
    "        return 4\n",
    "    elif x <= d[p][0.50]:\n",
    "        return 3\n",
    "    elif x <= d[p][0.75]: \n",
    "        return 2\n",
    "    else:\n",
    "        return 1"
   ]
  },
  {
   "cell_type": "code",
   "execution_count": 16,
   "metadata": {},
   "outputs": [
    {
     "data": {
      "text/html": [
       "<div>\n",
       "<style scoped>\n",
       "    .dataframe tbody tr th:only-of-type {\n",
       "        vertical-align: middle;\n",
       "    }\n",
       "\n",
       "    .dataframe tbody tr th {\n",
       "        vertical-align: top;\n",
       "    }\n",
       "\n",
       "    .dataframe thead th {\n",
       "        text-align: right;\n",
       "    }\n",
       "</style>\n",
       "<table border=\"1\" class=\"dataframe\">\n",
       "  <thead>\n",
       "    <tr style=\"text-align: right;\">\n",
       "      <th></th>\n",
       "      <th>Recency</th>\n",
       "      <th>Frequency</th>\n",
       "      <th>TotalPrice</th>\n",
       "      <th>R</th>\n",
       "      <th>F</th>\n",
       "      <th>M</th>\n",
       "    </tr>\n",
       "    <tr>\n",
       "      <th>CustomerID</th>\n",
       "      <th></th>\n",
       "      <th></th>\n",
       "      <th></th>\n",
       "      <th></th>\n",
       "      <th></th>\n",
       "      <th></th>\n",
       "    </tr>\n",
       "  </thead>\n",
       "  <tbody>\n",
       "    <tr>\n",
       "      <th>2.0</th>\n",
       "      <td>16</td>\n",
       "      <td>7</td>\n",
       "      <td>553704.0</td>\n",
       "      <td>1</td>\n",
       "      <td>1</td>\n",
       "      <td>1</td>\n",
       "    </tr>\n",
       "    <tr>\n",
       "      <th>3.0</th>\n",
       "      <td>89</td>\n",
       "      <td>4</td>\n",
       "      <td>257404.0</td>\n",
       "      <td>3</td>\n",
       "      <td>2</td>\n",
       "      <td>1</td>\n",
       "    </tr>\n",
       "    <tr>\n",
       "      <th>4.0</th>\n",
       "      <td>31</td>\n",
       "      <td>1</td>\n",
       "      <td>176613.0</td>\n",
       "      <td>1</td>\n",
       "      <td>4</td>\n",
       "      <td>2</td>\n",
       "    </tr>\n",
       "    <tr>\n",
       "      <th>5.0</th>\n",
       "      <td>323</td>\n",
       "      <td>1</td>\n",
       "      <td>41976.0</td>\n",
       "      <td>4</td>\n",
       "      <td>4</td>\n",
       "      <td>3</td>\n",
       "    </tr>\n",
       "    <tr>\n",
       "      <th>6.0</th>\n",
       "      <td>49</td>\n",
       "      <td>7</td>\n",
       "      <td>166972.0</td>\n",
       "      <td>2</td>\n",
       "      <td>1</td>\n",
       "      <td>2</td>\n",
       "    </tr>\n",
       "  </tbody>\n",
       "</table>\n",
       "</div>"
      ],
      "text/plain": [
       "            Recency  Frequency  TotalPrice  R  F  M\n",
       "CustomerID                                         \n",
       "2.0              16          7    553704.0  1  1  1\n",
       "3.0              89          4    257404.0  3  2  1\n",
       "4.0              31          1    176613.0  1  4  2\n",
       "5.0             323          1     41976.0  4  4  3\n",
       "6.0              49          7    166972.0  2  1  2"
      ]
     },
     "execution_count": 16,
     "metadata": {},
     "output_type": "execute_result"
    }
   ],
   "source": [
    "#Calculate Add R, F and M segment value columns in the existing dataset to show R, F and M segment values\n",
    "rfm_df['R'] = rfm_df['Recency'].apply(RScoring, args=('Recency',quantiles,))\n",
    "rfm_df['F'] = rfm_df['Frequency'].apply(FnMScoring, args=('Frequency',quantiles,))\n",
    "rfm_df['M'] = rfm_df['TotalPrice'].apply(FnMScoring, args=('TotalPrice',quantiles,))\n",
    "rfm_df.head()"
   ]
  },
  {
   "cell_type": "code",
   "execution_count": 17,
   "metadata": {},
   "outputs": [
    {
     "data": {
      "text/html": [
       "<div>\n",
       "<style scoped>\n",
       "    .dataframe tbody tr th:only-of-type {\n",
       "        vertical-align: middle;\n",
       "    }\n",
       "\n",
       "    .dataframe tbody tr th {\n",
       "        vertical-align: top;\n",
       "    }\n",
       "\n",
       "    .dataframe thead th {\n",
       "        text-align: right;\n",
       "    }\n",
       "</style>\n",
       "<table border=\"1\" class=\"dataframe\">\n",
       "  <thead>\n",
       "    <tr style=\"text-align: right;\">\n",
       "      <th></th>\n",
       "      <th>Recency</th>\n",
       "      <th>Frequency</th>\n",
       "      <th>TotalPrice</th>\n",
       "      <th>R</th>\n",
       "      <th>F</th>\n",
       "      <th>M</th>\n",
       "      <th>RFMGroup</th>\n",
       "      <th>RFMScore</th>\n",
       "    </tr>\n",
       "    <tr>\n",
       "      <th>CustomerID</th>\n",
       "      <th></th>\n",
       "      <th></th>\n",
       "      <th></th>\n",
       "      <th></th>\n",
       "      <th></th>\n",
       "      <th></th>\n",
       "      <th></th>\n",
       "      <th></th>\n",
       "    </tr>\n",
       "  </thead>\n",
       "  <tbody>\n",
       "    <tr>\n",
       "      <th>2.0</th>\n",
       "      <td>16</td>\n",
       "      <td>7</td>\n",
       "      <td>553704.0</td>\n",
       "      <td>1</td>\n",
       "      <td>1</td>\n",
       "      <td>1</td>\n",
       "      <td>111</td>\n",
       "      <td>3</td>\n",
       "    </tr>\n",
       "    <tr>\n",
       "      <th>3.0</th>\n",
       "      <td>89</td>\n",
       "      <td>4</td>\n",
       "      <td>257404.0</td>\n",
       "      <td>3</td>\n",
       "      <td>2</td>\n",
       "      <td>1</td>\n",
       "      <td>321</td>\n",
       "      <td>6</td>\n",
       "    </tr>\n",
       "    <tr>\n",
       "      <th>4.0</th>\n",
       "      <td>31</td>\n",
       "      <td>1</td>\n",
       "      <td>176613.0</td>\n",
       "      <td>1</td>\n",
       "      <td>4</td>\n",
       "      <td>2</td>\n",
       "      <td>142</td>\n",
       "      <td>7</td>\n",
       "    </tr>\n",
       "    <tr>\n",
       "      <th>5.0</th>\n",
       "      <td>323</td>\n",
       "      <td>1</td>\n",
       "      <td>41976.0</td>\n",
       "      <td>4</td>\n",
       "      <td>4</td>\n",
       "      <td>3</td>\n",
       "      <td>443</td>\n",
       "      <td>11</td>\n",
       "    </tr>\n",
       "    <tr>\n",
       "      <th>6.0</th>\n",
       "      <td>49</td>\n",
       "      <td>7</td>\n",
       "      <td>166972.0</td>\n",
       "      <td>2</td>\n",
       "      <td>1</td>\n",
       "      <td>2</td>\n",
       "      <td>212</td>\n",
       "      <td>5</td>\n",
       "    </tr>\n",
       "  </tbody>\n",
       "</table>\n",
       "</div>"
      ],
      "text/plain": [
       "            Recency  Frequency  TotalPrice  R  F  M RFMGroup  RFMScore\n",
       "CustomerID                                                            \n",
       "2.0              16          7    553704.0  1  1  1      111         3\n",
       "3.0              89          4    257404.0  3  2  1      321         6\n",
       "4.0              31          1    176613.0  1  4  2      142         7\n",
       "5.0             323          1     41976.0  4  4  3      443        11\n",
       "6.0              49          7    166972.0  2  1  2      212         5"
      ]
     },
     "execution_count": 17,
     "metadata": {},
     "output_type": "execute_result"
    }
   ],
   "source": [
    "#Calculate and Add RFMGroup value column showing combined concatenated score of RFM\n",
    "rfm_df['RFMGroup'] = rfm_df.R.map(str) + rfm_df.F.map(str) + rfm_df.M.map(str)\n",
    "\n",
    "#Calculate and Add RFMScore value column showing total sum of RFMGroup values\n",
    "rfm_df['RFMScore'] = rfm_df[['R', 'F', 'M']].sum(axis = 1)\n",
    "rfm_df.head()"
   ]
  },
  {
   "cell_type": "code",
   "execution_count": 18,
   "metadata": {},
   "outputs": [
    {
     "data": {
      "text/html": [
       "<div>\n",
       "<style scoped>\n",
       "    .dataframe tbody tr th:only-of-type {\n",
       "        vertical-align: middle;\n",
       "    }\n",
       "\n",
       "    .dataframe tbody tr th {\n",
       "        vertical-align: top;\n",
       "    }\n",
       "\n",
       "    .dataframe thead th {\n",
       "        text-align: right;\n",
       "    }\n",
       "</style>\n",
       "<table border=\"1\" class=\"dataframe\">\n",
       "  <thead>\n",
       "    <tr style=\"text-align: right;\">\n",
       "      <th></th>\n",
       "      <th>CustomerID</th>\n",
       "      <th>Recency</th>\n",
       "      <th>Frequency</th>\n",
       "      <th>TotalPrice</th>\n",
       "      <th>R</th>\n",
       "      <th>F</th>\n",
       "      <th>M</th>\n",
       "      <th>RFMGroup</th>\n",
       "      <th>RFMScore</th>\n",
       "      <th>RFM_Loyalty_Level</th>\n",
       "    </tr>\n",
       "  </thead>\n",
       "  <tbody>\n",
       "    <tr>\n",
       "      <th>0</th>\n",
       "      <td>2.0</td>\n",
       "      <td>16</td>\n",
       "      <td>7</td>\n",
       "      <td>553704.0</td>\n",
       "      <td>1</td>\n",
       "      <td>1</td>\n",
       "      <td>1</td>\n",
       "      <td>111</td>\n",
       "      <td>3</td>\n",
       "      <td>Gold</td>\n",
       "    </tr>\n",
       "    <tr>\n",
       "      <th>1</th>\n",
       "      <td>3.0</td>\n",
       "      <td>89</td>\n",
       "      <td>4</td>\n",
       "      <td>257404.0</td>\n",
       "      <td>3</td>\n",
       "      <td>2</td>\n",
       "      <td>1</td>\n",
       "      <td>321</td>\n",
       "      <td>6</td>\n",
       "      <td>Gold</td>\n",
       "    </tr>\n",
       "    <tr>\n",
       "      <th>2</th>\n",
       "      <td>4.0</td>\n",
       "      <td>31</td>\n",
       "      <td>1</td>\n",
       "      <td>176613.0</td>\n",
       "      <td>1</td>\n",
       "      <td>4</td>\n",
       "      <td>2</td>\n",
       "      <td>142</td>\n",
       "      <td>7</td>\n",
       "      <td>Silver</td>\n",
       "    </tr>\n",
       "    <tr>\n",
       "      <th>3</th>\n",
       "      <td>5.0</td>\n",
       "      <td>323</td>\n",
       "      <td>1</td>\n",
       "      <td>41976.0</td>\n",
       "      <td>4</td>\n",
       "      <td>4</td>\n",
       "      <td>3</td>\n",
       "      <td>443</td>\n",
       "      <td>11</td>\n",
       "      <td>Bronze</td>\n",
       "    </tr>\n",
       "    <tr>\n",
       "      <th>4</th>\n",
       "      <td>6.0</td>\n",
       "      <td>49</td>\n",
       "      <td>7</td>\n",
       "      <td>166972.0</td>\n",
       "      <td>2</td>\n",
       "      <td>1</td>\n",
       "      <td>2</td>\n",
       "      <td>212</td>\n",
       "      <td>5</td>\n",
       "      <td>Gold</td>\n",
       "    </tr>\n",
       "  </tbody>\n",
       "</table>\n",
       "</div>"
      ],
      "text/plain": [
       "   CustomerID  Recency  Frequency  TotalPrice  R  F  M RFMGroup  RFMScore  \\\n",
       "0         2.0       16          7    553704.0  1  1  1      111         3   \n",
       "1         3.0       89          4    257404.0  3  2  1      321         6   \n",
       "2         4.0       31          1    176613.0  1  4  2      142         7   \n",
       "3         5.0      323          1     41976.0  4  4  3      443        11   \n",
       "4         6.0       49          7    166972.0  2  1  2      212         5   \n",
       "\n",
       "  RFM_Loyalty_Level  \n",
       "0              Gold  \n",
       "1              Gold  \n",
       "2            Silver  \n",
       "3            Bronze  \n",
       "4              Gold  "
      ]
     },
     "execution_count": 18,
     "metadata": {},
     "output_type": "execute_result"
    }
   ],
   "source": [
    "#Assign Loyalty Level to each customer\n",
    "Loyalty_Level = [ 'Gold', 'Silver', 'Bronze']\n",
    "Score_cuts = pd.qcut(rfm_df.RFMScore, q = 3, labels = Loyalty_Level)\n",
    "rfm_df['RFM_Loyalty_Level'] = Score_cuts.values\n",
    "rfm_df.reset_index().head()"
   ]
  },
  {
   "cell_type": "code",
   "execution_count": 19,
   "metadata": {},
   "outputs": [
    {
     "data": {
      "text/plain": [
       "Gold      1622\n",
       "Bronze    1412\n",
       "Silver    1290\n",
       "Name: RFM_Loyalty_Level, dtype: int64"
      ]
     },
     "execution_count": 19,
     "metadata": {},
     "output_type": "execute_result"
    }
   ],
   "source": [
    "rfm_df.RFM_Loyalty_Level.value_counts()"
   ]
  },
  {
   "cell_type": "code",
   "execution_count": 20,
   "metadata": {},
   "outputs": [
    {
     "data": {
      "text/plain": [
       "'\\n\\n\\n#Recency Vs Frequency\\ngraph = rfm_df.query(\"TotalPrice < 35536194.0 and Frequency < 206\")\\n\\nplot_data = [\\n    gobj.Scatter(\\n        x=graph.query(\"RFM_Loyalty_Level == \\'Bronze\\'\")[\\'Recency\\'],\\n        y=graph.query(\"RFM_Loyalty_Level == \\'Bronze\\'\")[\\'Frequency\\'],\\n        mode=\\'markers\\',\\n        name=\\'Bronze\\',\\n        marker= dict(size= 7,\\n            line= dict(width=1),\\n            color= \\'blue\\',\\n            opacity= 0.8\\n           )\\n    ),\\n        gobj.Scatter(\\n        x=graph.query(\"RFM_Loyalty_Level == \\'Silver\\'\")[\\'Recency\\'],\\n        y=graph.query(\"RFM_Loyalty_Level == \\'Silver\\'\")[\\'Frequency\\'],\\n        mode=\\'markers\\',\\n        name=\\'Silver\\',\\n        marker= dict(size= 9,\\n            line= dict(width=1),\\n            color= \\'green\\',\\n            opacity= 0.5\\n           )\\n    ),\\n        gobj.Scatter(\\n        x=graph.query(\"RFM_Loyalty_Level == \\'Gold\\'\")[\\'Recency\\'],\\n        y=graph.query(\"RFM_Loyalty_Level == \\'Gold\\'\")[\\'Frequency\\'],\\n        mode=\\'markers\\',\\n        name=\\'Gold\\',\\n        marker= dict(size= 11,\\n            line= dict(width=1),\\n            color= \\'red\\',\\n            opacity= 0.9\\n           )\\n    ),\\n    gobj.Scatter(\\n        x=graph.query(\"RFM_Loyalty_Level == \\'Platinum\\'\")[\\'Recency\\'],\\n        y=graph.query(\"RFM_Loyalty_Level == \\'Platinum\\'\")[\\'Frequency\\'],\\n        mode=\\'markers\\',\\n        name=\\'Platinum\\',\\n        marker= dict(size= 13,\\n            line= dict(width=1),\\n            color= \\'black\\',\\n            opacity= 0.9\\n           )\\n    ),\\n]\\n\\nplot_layout = gobj.Layout(\\n        yaxis= {\\'title\\': \"Frequency\"},\\n        xaxis= {\\'title\\': \"Recency\"},\\n        title=\\'Segments\\'\\n    )\\nfig = gobj.Figure(data=plot_data, layout=plot_layout)\\npo.iplot(fig)\\n\\n'"
      ]
     },
     "execution_count": 20,
     "metadata": {},
     "output_type": "execute_result"
    }
   ],
   "source": [
    "\"\"\"\n",
    "\n",
    "\n",
    "#Recency Vs Frequency\n",
    "graph = rfm_df.query(\"TotalPrice < 35536194.0 and Frequency < 206\")\n",
    "\n",
    "plot_data = [\n",
    "    gobj.Scatter(\n",
    "        x=graph.query(\"RFM_Loyalty_Level == 'Bronze'\")['Recency'],\n",
    "        y=graph.query(\"RFM_Loyalty_Level == 'Bronze'\")['Frequency'],\n",
    "        mode='markers',\n",
    "        name='Bronze',\n",
    "        marker= dict(size= 7,\n",
    "            line= dict(width=1),\n",
    "            color= 'blue',\n",
    "            opacity= 0.8\n",
    "           )\n",
    "    ),\n",
    "        gobj.Scatter(\n",
    "        x=graph.query(\"RFM_Loyalty_Level == 'Silver'\")['Recency'],\n",
    "        y=graph.query(\"RFM_Loyalty_Level == 'Silver'\")['Frequency'],\n",
    "        mode='markers',\n",
    "        name='Silver',\n",
    "        marker= dict(size= 9,\n",
    "            line= dict(width=1),\n",
    "            color= 'green',\n",
    "            opacity= 0.5\n",
    "           )\n",
    "    ),\n",
    "        gobj.Scatter(\n",
    "        x=graph.query(\"RFM_Loyalty_Level == 'Gold'\")['Recency'],\n",
    "        y=graph.query(\"RFM_Loyalty_Level == 'Gold'\")['Frequency'],\n",
    "        mode='markers',\n",
    "        name='Gold',\n",
    "        marker= dict(size= 11,\n",
    "            line= dict(width=1),\n",
    "            color= 'red',\n",
    "            opacity= 0.9\n",
    "           )\n",
    "    ),\n",
    "    gobj.Scatter(\n",
    "        x=graph.query(\"RFM_Loyalty_Level == 'Platinum'\")['Recency'],\n",
    "        y=graph.query(\"RFM_Loyalty_Level == 'Platinum'\")['Frequency'],\n",
    "        mode='markers',\n",
    "        name='Platinum',\n",
    "        marker= dict(size= 13,\n",
    "            line= dict(width=1),\n",
    "            color= 'black',\n",
    "            opacity= 0.9\n",
    "           )\n",
    "    ),\n",
    "]\n",
    "\n",
    "plot_layout = gobj.Layout(\n",
    "        yaxis= {'title': \"Frequency\"},\n",
    "        xaxis= {'title': \"Recency\"},\n",
    "        title='Segments'\n",
    "    )\n",
    "fig = gobj.Figure(data=plot_data, layout=plot_layout)\n",
    "po.iplot(fig)\n",
    "\n",
    "\"\"\""
   ]
  },
  {
   "cell_type": "code",
   "execution_count": 21,
   "metadata": {},
   "outputs": [
    {
     "data": {
      "text/plain": [
       "'\\n#Frequency Vs Monetary\\ngraph = rfm_df.query(\"TotalPrice < 35536194.0 and Frequency < 206\")\\n\\nplot_data = [\\n    gobj.Scatter(\\n        x=graph.query(\"RFM_Loyalty_Level == \\'Bronze\\'\")[\\'Frequency\\'],\\n        y=graph.query(\"RFM_Loyalty_Level == \\'Bronze\\'\")[\\'TotalPrice\\'],\\n        mode=\\'markers\\',\\n        name=\\'Bronze\\',\\n        marker= dict(size= 7,\\n            line= dict(width=1),\\n            color= \\'blue\\',\\n            opacity= 0.8\\n           )\\n    ),\\n        gobj.Scatter(\\n        x=graph.query(\"RFM_Loyalty_Level == \\'Silver\\'\")[\\'Frequency\\'],\\n        y=graph.query(\"RFM_Loyalty_Level == \\'Silver\\'\")[\\'TotalPrice\\'],\\n        mode=\\'markers\\',\\n        name=\\'Silver\\',\\n        marker= dict(size= 9,\\n            line= dict(width=1),\\n            color= \\'green\\',\\n            opacity= 0.5\\n           )\\n    ),\\n        gobj.Scatter(\\n        x=graph.query(\"RFM_Loyalty_Level == \\'Gold\\'\")[\\'Frequency\\'],\\n        y=graph.query(\"RFM_Loyalty_Level == \\'Gold\\'\")[\\'TotalPrice\\'],\\n        mode=\\'markers\\',\\n        name=\\'Gold\\',\\n        marker= dict(size= 11,\\n            line= dict(width=1),\\n            color= \\'red\\',\\n            opacity= 0.9\\n           )\\n    ),\\n    gobj.Scatter(\\n        x=graph.query(\"RFM_Loyalty_Level == \\'Platinum\\'\")[\\'Frequency\\'],\\n        y=graph.query(\"RFM_Loyalty_Level == \\'Platinum\\'\")[\\'TotalPrice\\'],\\n        mode=\\'markers\\',\\n        name=\\'Platinum\\',\\n        marker= dict(size= 13,\\n            line= dict(width=1),\\n            color= \\'black\\',\\n            opacity= 0.9\\n           )\\n    ),\\n]\\n\\nplot_layout = gobj.Layout(\\n        yaxis= {\\'title\\': \"TotalPrice\"},\\n        xaxis= {\\'title\\': \"Frequency\"},\\n        title=\\'Segments\\'\\n    )\\nfig = gobj.Figure(data=plot_data, layout=plot_layout)\\npo.iplot(fig)\\n'"
      ]
     },
     "execution_count": 21,
     "metadata": {},
     "output_type": "execute_result"
    }
   ],
   "source": [
    "\"\"\"\n",
    "#Frequency Vs Monetary\n",
    "graph = rfm_df.query(\"TotalPrice < 35536194.0 and Frequency < 206\")\n",
    "\n",
    "plot_data = [\n",
    "    gobj.Scatter(\n",
    "        x=graph.query(\"RFM_Loyalty_Level == 'Bronze'\")['Frequency'],\n",
    "        y=graph.query(\"RFM_Loyalty_Level == 'Bronze'\")['TotalPrice'],\n",
    "        mode='markers',\n",
    "        name='Bronze',\n",
    "        marker= dict(size= 7,\n",
    "            line= dict(width=1),\n",
    "            color= 'blue',\n",
    "            opacity= 0.8\n",
    "           )\n",
    "    ),\n",
    "        gobj.Scatter(\n",
    "        x=graph.query(\"RFM_Loyalty_Level == 'Silver'\")['Frequency'],\n",
    "        y=graph.query(\"RFM_Loyalty_Level == 'Silver'\")['TotalPrice'],\n",
    "        mode='markers',\n",
    "        name='Silver',\n",
    "        marker= dict(size= 9,\n",
    "            line= dict(width=1),\n",
    "            color= 'green',\n",
    "            opacity= 0.5\n",
    "           )\n",
    "    ),\n",
    "        gobj.Scatter(\n",
    "        x=graph.query(\"RFM_Loyalty_Level == 'Gold'\")['Frequency'],\n",
    "        y=graph.query(\"RFM_Loyalty_Level == 'Gold'\")['TotalPrice'],\n",
    "        mode='markers',\n",
    "        name='Gold',\n",
    "        marker= dict(size= 11,\n",
    "            line= dict(width=1),\n",
    "            color= 'red',\n",
    "            opacity= 0.9\n",
    "           )\n",
    "    ),\n",
    "    gobj.Scatter(\n",
    "        x=graph.query(\"RFM_Loyalty_Level == 'Platinum'\")['Frequency'],\n",
    "        y=graph.query(\"RFM_Loyalty_Level == 'Platinum'\")['TotalPrice'],\n",
    "        mode='markers',\n",
    "        name='Platinum',\n",
    "        marker= dict(size= 13,\n",
    "            line= dict(width=1),\n",
    "            color= 'black',\n",
    "            opacity= 0.9\n",
    "           )\n",
    "    ),\n",
    "]\n",
    "\n",
    "plot_layout = gobj.Layout(\n",
    "        yaxis= {'title': \"TotalPrice\"},\n",
    "        xaxis= {'title': \"Frequency\"},\n",
    "        title='Segments'\n",
    "    )\n",
    "fig = gobj.Figure(data=plot_data, layout=plot_layout)\n",
    "po.iplot(fig)\n",
    "\"\"\""
   ]
  },
  {
   "cell_type": "code",
   "execution_count": 22,
   "metadata": {},
   "outputs": [
    {
     "data": {
      "text/plain": [
       "'\\n#Recency Vs Monetary\\ngraph = rfm_df.query(\"TotalPrice < 35536194.0 and Frequency < 206\")\\n\\nplot_data = [\\n    gobj.Scatter(\\n        x=graph.query(\"RFM_Loyalty_Level == \\'Bronze\\'\")[\\'Recency\\'],\\n        y=graph.query(\"RFM_Loyalty_Level == \\'Bronze\\'\")[\\'TotalPrice\\'],\\n        mode=\\'markers\\',\\n        name=\\'Bronze\\',\\n        marker= dict(size= 7,\\n            line= dict(width=1),\\n            color= \\'blue\\',\\n            opacity= 0.8\\n           )\\n    ),\\n        gobj.Scatter(\\n        x=graph.query(\"RFM_Loyalty_Level == \\'Silver\\'\")[\\'Recency\\'],\\n        y=graph.query(\"RFM_Loyalty_Level == \\'Silver\\'\")[\\'TotalPrice\\'],\\n        mode=\\'markers\\',\\n        name=\\'Silver\\',\\n        marker= dict(size= 9,\\n            line= dict(width=1),\\n            color= \\'green\\',\\n            opacity= 0.5\\n           )\\n    ),\\n        gobj.Scatter(\\n        x=graph.query(\"RFM_Loyalty_Level == \\'Gold\\'\")[\\'Recency\\'],\\n        y=graph.query(\"RFM_Loyalty_Level == \\'Gold\\'\")[\\'TotalPrice\\'],\\n        mode=\\'markers\\',\\n        name=\\'Gold\\',\\n        marker= dict(size= 11,\\n            line= dict(width=1),\\n            color= \\'red\\',\\n            opacity= 0.9\\n           )\\n    ),\\n    gobj.Scatter(\\n        x=graph.query(\"RFM_Loyalty_Level == \\'Platinum\\'\")[\\'Recency\\'],\\n        y=graph.query(\"RFM_Loyalty_Level == \\'Platinum\\'\")[\\'TotalPrice\\'],\\n        mode=\\'markers\\',\\n        name=\\'Platinum\\',\\n        marker= dict(size= 13,\\n            line= dict(width=1),\\n            color= \\'black\\',\\n            opacity= 0.9\\n           )\\n    ),\\n]\\n\\nplot_layout = gobj.Layout(\\n        yaxis= {\\'title\\': \"TotalPrice\"},\\n        xaxis= {\\'title\\': \"Recency\"},\\n        title=\\'Segments\\'\\n    )\\nfig = gobj.Figure(data=plot_data, layout=plot_layout)\\npo.iplot(fig)'"
      ]
     },
     "execution_count": 22,
     "metadata": {},
     "output_type": "execute_result"
    }
   ],
   "source": [
    "\"\"\"\n",
    "#Recency Vs Monetary\n",
    "graph = rfm_df.query(\"TotalPrice < 35536194.0 and Frequency < 206\")\n",
    "\n",
    "plot_data = [\n",
    "    gobj.Scatter(\n",
    "        x=graph.query(\"RFM_Loyalty_Level == 'Bronze'\")['Recency'],\n",
    "        y=graph.query(\"RFM_Loyalty_Level == 'Bronze'\")['TotalPrice'],\n",
    "        mode='markers',\n",
    "        name='Bronze',\n",
    "        marker= dict(size= 7,\n",
    "            line= dict(width=1),\n",
    "            color= 'blue',\n",
    "            opacity= 0.8\n",
    "           )\n",
    "    ),\n",
    "        gobj.Scatter(\n",
    "        x=graph.query(\"RFM_Loyalty_Level == 'Silver'\")['Recency'],\n",
    "        y=graph.query(\"RFM_Loyalty_Level == 'Silver'\")['TotalPrice'],\n",
    "        mode='markers',\n",
    "        name='Silver',\n",
    "        marker= dict(size= 9,\n",
    "            line= dict(width=1),\n",
    "            color= 'green',\n",
    "            opacity= 0.5\n",
    "           )\n",
    "    ),\n",
    "        gobj.Scatter(\n",
    "        x=graph.query(\"RFM_Loyalty_Level == 'Gold'\")['Recency'],\n",
    "        y=graph.query(\"RFM_Loyalty_Level == 'Gold'\")['TotalPrice'],\n",
    "        mode='markers',\n",
    "        name='Gold',\n",
    "        marker= dict(size= 11,\n",
    "            line= dict(width=1),\n",
    "            color= 'red',\n",
    "            opacity= 0.9\n",
    "           )\n",
    "    ),\n",
    "    gobj.Scatter(\n",
    "        x=graph.query(\"RFM_Loyalty_Level == 'Platinum'\")['Recency'],\n",
    "        y=graph.query(\"RFM_Loyalty_Level == 'Platinum'\")['TotalPrice'],\n",
    "        mode='markers',\n",
    "        name='Platinum',\n",
    "        marker= dict(size= 13,\n",
    "            line= dict(width=1),\n",
    "            color= 'black',\n",
    "            opacity= 0.9\n",
    "           )\n",
    "    ),\n",
    "]\n",
    "\n",
    "plot_layout = gobj.Layout(\n",
    "        yaxis= {'title': \"TotalPrice\"},\n",
    "        xaxis= {'title': \"Recency\"},\n",
    "        title='Segments'\n",
    "    )\n",
    "fig = gobj.Figure(data=plot_data, layout=plot_layout)\n",
    "po.iplot(fig)\"\"\""
   ]
  },
  {
   "cell_type": "markdown",
   "metadata": {},
   "source": [
    "# K mean Clustering"
   ]
  },
  {
   "cell_type": "code",
   "execution_count": 23,
   "metadata": {},
   "outputs": [],
   "source": [
    "#Handle negative and zero values so as to handle infinite numbers during log transformation\n",
    "def handle_neg_n_zero(num):\n",
    "    if num <= 0:\n",
    "        return 1\n",
    "    else:\n",
    "        return num\n",
    "#Apply handle_neg_n_zero function to Recency and Monetary columns \n",
    "rfm_df['Recency'] = [handle_neg_n_zero(x) for x in rfm_df.Recency]\n",
    "rfm_df['TotalPrice'] = [handle_neg_n_zero(x) for x in rfm_df.TotalPrice]\n",
    "\n",
    "#Perform Log transformation to bring data into normal or near normal distribution\n",
    "Log_Tfd_Data = rfm_df[['Recency', 'Frequency', 'TotalPrice']].apply(np.log, axis = 1).round(3)"
   ]
  },
  {
   "cell_type": "code",
   "execution_count": 24,
   "metadata": {},
   "outputs": [
    {
     "name": "stderr",
     "output_type": "stream",
     "text": [
      "C:\\Users\\Hrithik shukla\\anaconda3\\lib\\site-packages\\seaborn\\distributions.py:2551: FutureWarning:\n",
      "\n",
      "`distplot` is a deprecated function and will be removed in a future version. Please adapt your code to use either `displot` (a figure-level function with similar flexibility) or `histplot` (an axes-level function for histograms).\n",
      "\n"
     ]
    },
    {
     "data": {
      "image/png": "[encoded data removed]",
      "text/plain": [
       "<Figure size 432x288 with 1 Axes>"
      ]
     },
     "metadata": {
      "needs_background": "light"
     },
     "output_type": "display_data"
    }
   ],
   "source": [
    "#Data distribution after data normalization for Recency\n",
    "Recency_Plot = Log_Tfd_Data['Recency']\n",
    "ax = sns.distplot(Recency_Plot)"
   ]
  },
  {
   "cell_type": "code",
   "execution_count": 25,
   "metadata": {},
   "outputs": [
    {
     "name": "stderr",
     "output_type": "stream",
     "text": [
      "C:\\Users\\Hrithik shukla\\anaconda3\\lib\\site-packages\\seaborn\\distributions.py:2551: FutureWarning:\n",
      "\n",
      "`distplot` is a deprecated function and will be removed in a future version. Please adapt your code to use either `displot` (a figure-level function with similar flexibility) or `histplot` (an axes-level function for histograms).\n",
      "\n"
     ]
    },
    {
     "data": {
      "image/png": "[encoded data removed]",
      "text/plain": [
       "<Figure size 432x288 with 1 Axes>"
      ]
     },
     "metadata": {
      "needs_background": "light"
     },
     "output_type": "display_data"
    }
   ],
   "source": [
    "#Data distribution after data normalization for Frequency\n",
    "Frequency_Plot = Log_Tfd_Data['Frequency']\n",
    "ax = sns.distplot(Frequency_Plot)"
   ]
  },
  {
   "cell_type": "code",
   "execution_count": 26,
   "metadata": {},
   "outputs": [
    {
     "data": {
      "text/plain": [
       "5.328"
      ]
     },
     "execution_count": 26,
     "metadata": {},
     "output_type": "execute_result"
    }
   ],
   "source": [
    "Log_Tfd_Data.Frequency.max()"
   ]
  },
  {
   "cell_type": "code",
   "execution_count": 27,
   "metadata": {},
   "outputs": [
    {
     "name": "stderr",
     "output_type": "stream",
     "text": [
      "C:\\Users\\Hrithik shukla\\anaconda3\\lib\\site-packages\\seaborn\\distributions.py:2551: FutureWarning:\n",
      "\n",
      "`distplot` is a deprecated function and will be removed in a future version. Please adapt your code to use either `displot` (a figure-level function with similar flexibility) or `histplot` (an axes-level function for histograms).\n",
      "\n"
     ]
    },
    {
     "data": {
      "image/png": "[encoded data removed]",
      "text/plain": [
       "<Figure size 432x288 with 1 Axes>"
      ]
     },
     "metadata": {
      "needs_background": "light"
     },
     "output_type": "display_data"
    }
   ],
   "source": [
    "\n",
    "#Data distribution after data normalization for Monetary\n",
    "Monetary_Plot = Log_Tfd_Data['TotalPrice']\n",
    "ax = sns.distplot(Monetary_Plot)"
   ]
  },
  {
   "cell_type": "code",
   "execution_count": 28,
   "metadata": {},
   "outputs": [],
   "source": [
    "from sklearn.preprocessing import StandardScaler\n",
    "\n",
    "#Bring the data on same scale\n",
    "scaleobj = StandardScaler()\n",
    "Scaled_Data = scaleobj.fit_transform(Log_Tfd_Data)\n",
    "\n",
    "#Transform it back to dataframe\n",
    "Scaled_Data = pd.DataFrame(Scaled_Data, index = rfm_df.index, columns = Log_Tfd_Data.columns)"
   ]
  },
  {
   "cell_type": "code",
   "execution_count": 29,
   "metadata": {},
   "outputs": [
    {
     "data": {
      "image/png": "[encoded data removed]",
      "text/plain": [
       "<Figure size 432x288 with 1 Axes>"
      ]
     },
     "metadata": {
      "needs_background": "light"
     },
     "output_type": "display_data"
    }
   ],
   "source": [
    "from sklearn.cluster import KMeans\n",
    "\n",
    "sum_of_sq_dist = {}\n",
    "for k in range(1,15):\n",
    "    km = KMeans(n_clusters= k, init= 'k-means++', max_iter= 1000)\n",
    "    km = km.fit(Scaled_Data)\n",
    "    sum_of_sq_dist[k] = km.inertia_\n",
    "    \n",
    "#Plot the graph for the sum of square distance values and Number of Clusters\n",
    "sns.pointplot(x = list(sum_of_sq_dist.keys()), y = list(sum_of_sq_dist.values()))\n",
    "plt.xlabel('Number of Clusters(k)')\n",
    "plt.ylabel('Sum of Square Distances')\n",
    "plt.title('Elbow Method For Optimal k')\n",
    "plt.show()"
   ]
  },
  {
   "cell_type": "code",
   "execution_count": 30,
   "metadata": {},
   "outputs": [
    {
     "name": "stdout",
     "output_type": "stream",
     "text": [
      "For 2 The Silhouette Score is = 0.42676252730043823\n",
      "For 3 The Silhouette Score is = 0.34036027305247984\n",
      "For 4 The Silhouette Score is = 0.3320595638918118\n",
      "For 5 The Silhouette Score is = 0.3394413333564374\n",
      "For 6 The Silhouette Score is = 0.32547111039932086\n",
      "For 7 The Silhouette Score is = 0.31791701770772446\n",
      "For 8 The Silhouette Score is = 0.2924880031535917\n",
      "For 9 The Silhouette Score is = 0.2825073639754638\n",
      "For 10 The Silhouette Score is = 0.2877269685418858\n",
      "For 11 The Silhouette Score is = 0.28862478666143443\n",
      "For 12 The Silhouette Score is = 0.287594007715833\n",
      "For 13 The Silhouette Score is = 0.2813041792698712\n",
      "For 14 The Silhouette Score is = 0.286980318539729\n",
      "For 15 The Silhouette Score is = 0.28602148702889685\n"
     ]
    }
   ],
   "source": [
    "# Silhouette Score\n",
    "from sklearn.metrics import silhouette_score\n",
    "for num in range(2,16):\n",
    "    clusters = KMeans(n_clusters=num,random_state=0)\n",
    "    labels = clusters.fit_predict(Scaled_Data)\n",
    "    \n",
    "    sil_avg = silhouette_score(Scaled_Data, labels)\n",
    "    print('For',num,'The Silhouette Score is =',sil_avg)"
   ]
  },
  {
   "cell_type": "code",
   "execution_count": 31,
   "metadata": {},
   "outputs": [
    {
     "data": {
      "text/html": [
       "<div>\n",
       "<style scoped>\n",
       "    .dataframe tbody tr th:only-of-type {\n",
       "        vertical-align: middle;\n",
       "    }\n",
       "\n",
       "    .dataframe tbody tr th {\n",
       "        vertical-align: top;\n",
       "    }\n",
       "\n",
       "    .dataframe thead th {\n",
       "        text-align: right;\n",
       "    }\n",
       "</style>\n",
       "<table border=\"1\" class=\"dataframe\">\n",
       "  <thead>\n",
       "    <tr style=\"text-align: right;\">\n",
       "      <th></th>\n",
       "      <th>Recency</th>\n",
       "      <th>Frequency</th>\n",
       "      <th>TotalPrice</th>\n",
       "      <th>R</th>\n",
       "      <th>F</th>\n",
       "      <th>M</th>\n",
       "      <th>RFMGroup</th>\n",
       "      <th>RFMScore</th>\n",
       "      <th>RFM_Loyalty_Level</th>\n",
       "      <th>Cluster</th>\n",
       "    </tr>\n",
       "    <tr>\n",
       "      <th>CustomerID</th>\n",
       "      <th></th>\n",
       "      <th></th>\n",
       "      <th></th>\n",
       "      <th></th>\n",
       "      <th></th>\n",
       "      <th></th>\n",
       "      <th></th>\n",
       "      <th></th>\n",
       "      <th></th>\n",
       "      <th></th>\n",
       "    </tr>\n",
       "  </thead>\n",
       "  <tbody>\n",
       "    <tr>\n",
       "      <th>2.0</th>\n",
       "      <td>16</td>\n",
       "      <td>7</td>\n",
       "      <td>553704.0</td>\n",
       "      <td>1</td>\n",
       "      <td>1</td>\n",
       "      <td>1</td>\n",
       "      <td>111</td>\n",
       "      <td>3</td>\n",
       "      <td>Gold</td>\n",
       "      <td>0</td>\n",
       "    </tr>\n",
       "    <tr>\n",
       "      <th>3.0</th>\n",
       "      <td>89</td>\n",
       "      <td>4</td>\n",
       "      <td>257404.0</td>\n",
       "      <td>3</td>\n",
       "      <td>2</td>\n",
       "      <td>1</td>\n",
       "      <td>321</td>\n",
       "      <td>6</td>\n",
       "      <td>Gold</td>\n",
       "      <td>0</td>\n",
       "    </tr>\n",
       "    <tr>\n",
       "      <th>4.0</th>\n",
       "      <td>31</td>\n",
       "      <td>1</td>\n",
       "      <td>176613.0</td>\n",
       "      <td>1</td>\n",
       "      <td>4</td>\n",
       "      <td>2</td>\n",
       "      <td>142</td>\n",
       "      <td>7</td>\n",
       "      <td>Silver</td>\n",
       "      <td>1</td>\n",
       "    </tr>\n",
       "    <tr>\n",
       "      <th>5.0</th>\n",
       "      <td>323</td>\n",
       "      <td>1</td>\n",
       "      <td>41976.0</td>\n",
       "      <td>4</td>\n",
       "      <td>4</td>\n",
       "      <td>3</td>\n",
       "      <td>443</td>\n",
       "      <td>11</td>\n",
       "      <td>Bronze</td>\n",
       "      <td>2</td>\n",
       "    </tr>\n",
       "    <tr>\n",
       "      <th>6.0</th>\n",
       "      <td>49</td>\n",
       "      <td>7</td>\n",
       "      <td>166972.0</td>\n",
       "      <td>2</td>\n",
       "      <td>1</td>\n",
       "      <td>2</td>\n",
       "      <td>212</td>\n",
       "      <td>5</td>\n",
       "      <td>Gold</td>\n",
       "      <td>0</td>\n",
       "    </tr>\n",
       "  </tbody>\n",
       "</table>\n",
       "</div>"
      ],
      "text/plain": [
       "            Recency  Frequency  TotalPrice  R  F  M RFMGroup  RFMScore  \\\n",
       "CustomerID                                                               \n",
       "2.0              16          7    553704.0  1  1  1      111         3   \n",
       "3.0              89          4    257404.0  3  2  1      321         6   \n",
       "4.0              31          1    176613.0  1  4  2      142         7   \n",
       "5.0             323          1     41976.0  4  4  3      443        11   \n",
       "6.0              49          7    166972.0  2  1  2      212         5   \n",
       "\n",
       "           RFM_Loyalty_Level  Cluster  \n",
       "CustomerID                             \n",
       "2.0                     Gold        0  \n",
       "3.0                     Gold        0  \n",
       "4.0                   Silver        1  \n",
       "5.0                   Bronze        2  \n",
       "6.0                     Gold        0  "
      ]
     },
     "execution_count": 31,
     "metadata": {},
     "output_type": "execute_result"
    }
   ],
   "source": [
    "#Perform K-Mean Clustering or build the K-Means clustering model\n",
    "KMean_clust = KMeans(n_clusters= 3, init= 'k-means++', max_iter= 1000)\n",
    "KMean_clust.fit(Scaled_Data)\n",
    "\n",
    "#Find the clusters for the observation given in the dataset\n",
    "\n",
    "rfm_df['Cluster'] = KMean_clust.labels_\n",
    "rfm_df.head()"
   ]
  },
  {
   "cell_type": "code",
   "execution_count": 32,
   "metadata": {},
   "outputs": [
    {
     "data": {
      "text/plain": [
       "<Figure size 504x504 with 0 Axes>"
      ]
     },
     "metadata": {},
     "output_type": "display_data"
    },
    {
     "data": {
      "image/png": "[encoded data removed]",
      "text/plain": [
       "<Figure size 720x576 with 1 Axes>"
      ]
     },
     "metadata": {
      "needs_background": "light"
     },
     "output_type": "display_data"
    }
   ],
   "source": [
    "from matplotlib import pyplot as plt\n",
    "plt.figure(figsize=(7,7))\n",
    "\n",
    "##Scatter Plot Frequency Vs Recency\n",
    "Colors = [\"red\", \"green\", \"blue\",'orange']\n",
    "rfm_df['Color'] = rfm_df['Cluster'].map(lambda p: Colors[p])\n",
    "ax = rfm_df.plot(    \n",
    "    kind=\"scatter\", \n",
    "    x=\"Recency\", y=\"TotalPrice\",\n",
    "    figsize=(10,8),\n",
    "    c = rfm_df['Color'])"
   ]
  },
  {
   "cell_type": "code",
   "execution_count": 33,
   "metadata": {},
   "outputs": [],
   "source": [
    "rfm_df[\"Cluster\"] = rfm_df.Cluster.map({0:\"Gold\",1:\"Silver\",2:\"Bronze\"})\n"
   ]
  },
  {
   "cell_type": "code",
   "execution_count": 34,
   "metadata": {},
   "outputs": [
    {
     "data": {
      "text/plain": [
       "Silver    1702\n",
       "Bronze    1389\n",
       "Gold      1233\n",
       "Name: Cluster, dtype: int64"
      ]
     },
     "execution_count": 34,
     "metadata": {},
     "output_type": "execute_result"
    }
   ],
   "source": [
    "rfm_df.Cluster.value_counts()"
   ]
  },
  {
   "cell_type": "code",
   "execution_count": 35,
   "metadata": {},
   "outputs": [
    {
     "data": {
      "text/html": [
       "<div>\n",
       "<style scoped>\n",
       "    .dataframe tbody tr th:only-of-type {\n",
       "        vertical-align: middle;\n",
       "    }\n",
       "\n",
       "    .dataframe tbody tr th {\n",
       "        vertical-align: top;\n",
       "    }\n",
       "\n",
       "    .dataframe thead th {\n",
       "        text-align: right;\n",
       "    }\n",
       "</style>\n",
       "<table border=\"1\" class=\"dataframe\">\n",
       "  <thead>\n",
       "    <tr style=\"text-align: right;\">\n",
       "      <th></th>\n",
       "      <th>Recency</th>\n",
       "      <th>Frequency</th>\n",
       "      <th>TotalPrice</th>\n",
       "      <th>R</th>\n",
       "      <th>F</th>\n",
       "      <th>M</th>\n",
       "      <th>RFMGroup</th>\n",
       "      <th>RFMScore</th>\n",
       "      <th>RFM_Loyalty_Level</th>\n",
       "      <th>Cluster</th>\n",
       "      <th>Color</th>\n",
       "    </tr>\n",
       "    <tr>\n",
       "      <th>CustomerID</th>\n",
       "      <th></th>\n",
       "      <th></th>\n",
       "      <th></th>\n",
       "      <th></th>\n",
       "      <th></th>\n",
       "      <th></th>\n",
       "      <th></th>\n",
       "      <th></th>\n",
       "      <th></th>\n",
       "      <th></th>\n",
       "      <th></th>\n",
       "    </tr>\n",
       "  </thead>\n",
       "  <tbody>\n",
       "    <tr>\n",
       "      <th>2.0</th>\n",
       "      <td>16</td>\n",
       "      <td>7</td>\n",
       "      <td>553704.0</td>\n",
       "      <td>1</td>\n",
       "      <td>1</td>\n",
       "      <td>1</td>\n",
       "      <td>111</td>\n",
       "      <td>3</td>\n",
       "      <td>Gold</td>\n",
       "      <td>Gold</td>\n",
       "      <td>red</td>\n",
       "    </tr>\n",
       "    <tr>\n",
       "      <th>3.0</th>\n",
       "      <td>89</td>\n",
       "      <td>4</td>\n",
       "      <td>257404.0</td>\n",
       "      <td>3</td>\n",
       "      <td>2</td>\n",
       "      <td>1</td>\n",
       "      <td>321</td>\n",
       "      <td>6</td>\n",
       "      <td>Gold</td>\n",
       "      <td>Gold</td>\n",
       "      <td>red</td>\n",
       "    </tr>\n",
       "    <tr>\n",
       "      <th>4.0</th>\n",
       "      <td>31</td>\n",
       "      <td>1</td>\n",
       "      <td>176613.0</td>\n",
       "      <td>1</td>\n",
       "      <td>4</td>\n",
       "      <td>2</td>\n",
       "      <td>142</td>\n",
       "      <td>7</td>\n",
       "      <td>Silver</td>\n",
       "      <td>Silver</td>\n",
       "      <td>green</td>\n",
       "    </tr>\n",
       "    <tr>\n",
       "      <th>5.0</th>\n",
       "      <td>323</td>\n",
       "      <td>1</td>\n",
       "      <td>41976.0</td>\n",
       "      <td>4</td>\n",
       "      <td>4</td>\n",
       "      <td>3</td>\n",
       "      <td>443</td>\n",
       "      <td>11</td>\n",
       "      <td>Bronze</td>\n",
       "      <td>Bronze</td>\n",
       "      <td>blue</td>\n",
       "    </tr>\n",
       "    <tr>\n",
       "      <th>6.0</th>\n",
       "      <td>49</td>\n",
       "      <td>7</td>\n",
       "      <td>166972.0</td>\n",
       "      <td>2</td>\n",
       "      <td>1</td>\n",
       "      <td>2</td>\n",
       "      <td>212</td>\n",
       "      <td>5</td>\n",
       "      <td>Gold</td>\n",
       "      <td>Gold</td>\n",
       "      <td>red</td>\n",
       "    </tr>\n",
       "  </tbody>\n",
       "</table>\n",
       "</div>"
      ],
      "text/plain": [
       "            Recency  Frequency  TotalPrice  R  F  M RFMGroup  RFMScore  \\\n",
       "CustomerID                                                               \n",
       "2.0              16          7    553704.0  1  1  1      111         3   \n",
       "3.0              89          4    257404.0  3  2  1      321         6   \n",
       "4.0              31          1    176613.0  1  4  2      142         7   \n",
       "5.0             323          1     41976.0  4  4  3      443        11   \n",
       "6.0              49          7    166972.0  2  1  2      212         5   \n",
       "\n",
       "           RFM_Loyalty_Level Cluster  Color  \n",
       "CustomerID                                   \n",
       "2.0                     Gold    Gold    red  \n",
       "3.0                     Gold    Gold    red  \n",
       "4.0                   Silver  Silver  green  \n",
       "5.0                   Bronze  Bronze   blue  \n",
       "6.0                     Gold    Gold    red  "
      ]
     },
     "execution_count": 35,
     "metadata": {},
     "output_type": "execute_result"
    }
   ],
   "source": [
    "rfm_df.head()"
   ]
  },
  {
   "cell_type": "code",
   "execution_count": null,
   "metadata": {},
   "outputs": [],
   "source": []
  },
  {
   "cell_type": "code",
   "execution_count": null,
   "metadata": {},
   "outputs": [],
   "source": []
  },
  {
   "cell_type": "code",
   "execution_count": null,
   "metadata": {},
   "outputs": [],
   "source": []
  },
  {
   "cell_type": "code",
   "execution_count": null,
   "metadata": {},
   "outputs": [],
   "source": []
  }
 ],
 "metadata": {
  "kernelspec": {
   "display_name": "Python 3",
   "language": "python",
   "name": "python3"
  },
  "language_info": {
   "codemirror_mode": {
    "name": "ipython",
    "version": 3
   },
   "file_extension": ".py",
   "mimetype": "text/x-python",
   "name": "python",
   "nbconvert_exporter": "python",
   "pygments_lexer": "ipython3",
   "version": "3.8.5"
  }
 },
 "nbformat": 4,
 "nbformat_minor": 4
}
